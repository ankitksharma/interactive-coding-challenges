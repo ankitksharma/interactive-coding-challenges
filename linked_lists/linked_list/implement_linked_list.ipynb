{
 "cells": [
  {
   "cell_type": "markdown",
   "metadata": {},
   "source": [
    "# Implement a Singly Linked List\n",
    "\n",
    "### Features:\n",
    "\n",
    " - **List()** creates a new list that is empty. It needs no parameters and returns an empty list.\n",
    " - **printList()** print list\n",
    " - **add(item)** adds a new item to the list. It needs the item and returns nothing. Assume the item is not already in the list.\n",
    " - **remove(item)** removes the item from the list. It needs the item and modifies the list. Assume the item is present in the list.\n",
    " - **search(item)** searches for the item in the list. It needs the item and returns a position.\n",
    " - **isEmpty()** tests to see whether the list is empty. It needs no parameters and returns a boolean value.\n",
    " - **size()** returns the number of items in the list. It needs no parameters and returns an integer.\n",
    " - **append(item)** adds a new item to the end of the list making it the last item in the collection. It needs the item and returns nothing. Assume the item is not already in the list.\n",
    " - **insert(pos,item)** adds a new item to the list at position pos. It needs the item and returns nothing. Assume the item is not already in the list and there are enough existing items to have position pos.\n",
    " - **reverse()** reverses the list"
   ]
  },
  {
   "cell_type": "code",
   "execution_count": 35,
   "metadata": {
    "collapsed": false
   },
   "outputs": [],
   "source": [
    "import logging\n",
    "logger = logging.getLogger()\n",
    "logger.setLevel(logging.DEBUG)\n",
    "logging.debug(\"test\")"
   ]
  },
  {
   "cell_type": "markdown",
   "metadata": {},
   "source": [
    "## Node class"
   ]
  },
  {
   "cell_type": "code",
   "execution_count": 103,
   "metadata": {
    "collapsed": true
   },
   "outputs": [],
   "source": [
    "class Node:\n",
    "    def __init__(self, node_data):\n",
    "        self.data = node_data\n",
    "        self.next = None\n",
    "    \n",
    "    def getData(self):\n",
    "        return self.data\n",
    "    \n",
    "    def getNext(self):\n",
    "        return self.next\n",
    "    \n",
    "    def setData(self, new_data):\n",
    "        self.data = new_data\n",
    "    \n",
    "    def setNext(self, new_node):\n",
    "        self.next = new_node\n",
    "\n",
    "    def __str__(self):\n",
    "        return str(self.data)"
   ]
  },
  {
   "cell_type": "markdown",
   "metadata": {},
   "source": [
    "## Linked List class"
   ]
  },
  {
   "cell_type": "code",
   "execution_count": 170,
   "metadata": {
    "collapsed": false
   },
   "outputs": [],
   "source": [
    "class List:\n",
    "    def __init__(self):\n",
    "        self.head = None\n",
    "        \n",
    "    def isEmpty(self):\n",
    "        if self.head == None:\n",
    "            return True\n",
    "        else:\n",
    "            return False\n",
    "    \n",
    "    def add(self,item):\n",
    "        n = Node(item)\n",
    "        n.setNext(self.head)\n",
    "        self.head = n\n",
    "    \n",
    "    def remove(self, item):\n",
    "        if self.isEmpty():\n",
    "            logging.info(\"Empty list\")\n",
    "        else:\n",
    "            current = self.head\n",
    "            if current.getData() == item:\n",
    "                logging.info(\"Deleting from front.\")\n",
    "                self.head = self.head.getNext()\n",
    "            else:\n",
    "                while current is not None:\n",
    "                    if current.getNext().getData() == item and current.getNext().getNext() != None:\n",
    "                        current.setNext(current.getNext().getNext())\n",
    "                    elif current.getNext().getData() == item and current.getNext().getNext() == None:\n",
    "                        current.setNext(None)\n",
    "                    current = current.getNext()\n",
    "                    \n",
    "    def size(self):\n",
    "        counter = 0\n",
    "        current = self.head\n",
    "        while current is not None:\n",
    "            counter += 1\n",
    "            current = current.getNext()\n",
    "        return counter\n",
    "    \n",
    "    def printList(self):\n",
    "        if self.isEmpty():\n",
    "            logging.info(\"Empty list\")\n",
    "        else:\n",
    "            current = self.head\n",
    "            while current is not None:\n",
    "                logging.info(current.getData())\n",
    "                current = current.getNext()\n",
    "                \n",
    "    def search(self, item):\n",
    "        if self.isEmpty():\n",
    "            logging.info(\"List is empty\")\n",
    "            return None\n",
    "        else:\n",
    "            current = self.head\n",
    "            position = 0\n",
    "            while current is not None:\n",
    "                if current.getData() == item:\n",
    "                    return position\n",
    "                current = current.getNext()\n",
    "                position += 1\n",
    "            logging.info(\"Item not found\")\n",
    "            return None\n",
    "\n",
    "    def insertAt(self, item, position):\n",
    "        if self.isEmpty():\n",
    "            logging.info(\"List is empty\")\n",
    "            return None\n",
    "        elif self.size() < position:\n",
    "            logging.info(\"Position out of bound\")\n",
    "        else:\n",
    "            current = self.head\n",
    "            current_position = 0\n",
    "            while current_position < position - 1:\n",
    "                current = current.getNext()\n",
    "                current_position += 1\n",
    "            n = Node(item)\n",
    "            n.setNext(current.getNext())\n",
    "            current.setNext(n)\n",
    "            logging.info(\"Item not found\")\n",
    "            return None\n",
    "    \n",
    "    \"\"\"\n",
    "    HEAD -> A -> B -> C -> D -> None\n",
    "    None <- A <- B <- C <- D <- HEAD\n",
    "    \"\"\"\n",
    "    def reverse(self):\n",
    "        if not self.isEmpty():\n",
    "            prev = None\n",
    "            current = self.head\n",
    "            while current is not None:\n",
    "                temp = current.getNext()\n",
    "                current.setNext(prev)\n",
    "                prev = current\n",
    "                current = temp\n",
    "            self.head = prev\n",
    "        else:\n",
    "            logging.info('Empty list')\n",
    "            return None"
   ]
  },
  {
   "cell_type": "code",
   "execution_count": 178,
   "metadata": {
    "collapsed": false
   },
   "outputs": [
    {
     "name": "stderr",
     "output_type": "stream",
     "text": [
      "INFO:root:7\n",
      "INFO:root:6\n",
      "INFO:root:4\n",
      "INFO:root:5\n"
     ]
    }
   ],
   "source": [
    "#Creating a list\n",
    "ll = List()\n",
    "\n",
    "#Adding items to list\n",
    "ll.add(5)\n",
    "ll.add(4)\n",
    "ll.add(6)\n",
    "ll.add(7)\n",
    "ll.printList()"
   ]
  },
  {
   "cell_type": "code",
   "execution_count": 173,
   "metadata": {
    "collapsed": false
   },
   "outputs": [
    {
     "data": {
      "text/plain": [
       "4"
      ]
     },
     "execution_count": 173,
     "metadata": {},
     "output_type": "execute_result"
    }
   ],
   "source": [
    "#Size of list\n",
    "ll.size()"
   ]
  },
  {
   "cell_type": "code",
   "execution_count": 163,
   "metadata": {
    "collapsed": false
   },
   "outputs": [
    {
     "name": "stderr",
     "output_type": "stream",
     "text": [
      "INFO:root:7\n",
      "INFO:root:6\n",
      "INFO:root:4\n"
     ]
    }
   ],
   "source": [
    "#Removing item\n",
    "ll.remove(5)\n",
    "ll.printList()"
   ]
  },
  {
   "cell_type": "code",
   "execution_count": 179,
   "metadata": {
    "collapsed": false
   },
   "outputs": [
    {
     "data": {
      "text/plain": [
       "3"
      ]
     },
     "execution_count": 179,
     "metadata": {},
     "output_type": "execute_result"
    }
   ],
   "source": [
    "#Search for item\n",
    "ll.search(5)"
   ]
  },
  {
   "cell_type": "code",
   "execution_count": 165,
   "metadata": {
    "collapsed": false,
    "scrolled": true
   },
   "outputs": [
    {
     "name": "stderr",
     "output_type": "stream",
     "text": [
      "INFO:root:Item not found\n",
      "INFO:root:7\n",
      "INFO:root:2\n",
      "INFO:root:6\n",
      "INFO:root:4\n"
     ]
    }
   ],
   "source": [
    "#Inserting at position\n",
    "ll.insertAt(2, 0)\n",
    "ll.printList()"
   ]
  },
  {
   "cell_type": "code",
   "execution_count": 177,
   "metadata": {
    "collapsed": false
   },
   "outputs": [
    {
     "name": "stderr",
     "output_type": "stream",
     "text": [
      "INFO:root:7\n",
      "INFO:root:6\n",
      "INFO:root:4\n",
      "INFO:root:5\n"
     ]
    }
   ],
   "source": [
    "#Reverse list\n",
    "ll.reverse()\n",
    "ll.printList()"
   ]
  },
  {
   "cell_type": "code",
   "execution_count": null,
   "metadata": {
    "collapsed": true
   },
   "outputs": [],
   "source": []
  }
 ],
 "metadata": {
  "kernelspec": {
   "display_name": "Python 3",
   "language": "python",
   "name": "python3"
  },
  "language_info": {
   "codemirror_mode": {
    "name": "ipython",
    "version": 3
   },
   "file_extension": ".py",
   "mimetype": "text/x-python",
   "name": "python",
   "nbconvert_exporter": "python",
   "pygments_lexer": "ipython3",
   "version": "3.6.4"
  }
 },
 "nbformat": 4,
 "nbformat_minor": 2
}
