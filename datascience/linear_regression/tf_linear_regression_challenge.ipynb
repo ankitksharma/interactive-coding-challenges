{
 "cells": [
  {
   "cell_type": "markdown",
   "metadata": {
    "deletable": true,
    "editable": true
   },
   "source": [
    "This notebook was prepared by [Author](https://github.com/ankitksharma). Source and license info is on [GitHub](https://github.com/ankitksharma/interactive-coding-challenges)."
   ]
  },
  {
   "cell_type": "markdown",
   "metadata": {
    "deletable": true,
    "editable": true
   },
   "source": [
    "# Challenge Notebook: Linear Regression using TensorFlow"
   ]
  },
  {
   "cell_type": "markdown",
   "metadata": {
    "deletable": true,
    "editable": true
   },
   "source": [
    "## Problem: \n",
    "\n",
    "#### Implement Linear Regression model, which has a predict function which makes prediction on input data using `TensorFlow` library\n",
    "\n",
    "* [Constraints](#Constraints)\n",
    "* [Algorithm](#Algorithm)\n",
    "* [Code](#Code)"
   ]
  },
  {
   "cell_type": "markdown",
   "metadata": {
    "deletable": true,
    "editable": true
   },
   "source": [
    "## Constraints\n",
    "\n",
    "* Can we assume all predictor variable are numerical?\n",
    "    * Yes\n",
    "* Can we assume no missing value in data?\n",
    "    * Yes\n",
    "* Can we assume no outlier in data?\n",
    "    * Yes\n",
    "* Implement using specific package\n",
    "    * Tensorflow"
   ]
  },
  {
   "cell_type": "markdown",
   "metadata": {
    "deletable": true,
    "editable": true
   },
   "source": [
    "## Algorithm\n",
    "\n",
    "### Linear Regression Function\n",
    "We will model our *unknown* function using this hypothesis function. \n",
    "\n",
    "$$h(x) = w_0 + w_1x + w_2x^2 + w_3x^3 + ... + w_px^p$$\n",
    "\n",
    "We have to fix the $p$ before fitting the model. If $p=1$, we get a linear function. Which of course will not be sufficient to fit the dataset we have. We may have to set $p$ to some higher value like 5 or 6, which may have to be found emperically, by trying out different values.\n",
    "\n",
    "However, for a fixed $p$, we can find the optimal choice of parameters $w_0, w_1, ..., w_p$, using gradient descent algorithm.\n",
    "So to start with Tensorflow lets construct our hypothesis for linear regression\n",
    "\n",
    "$$h(x) = wx + b$$"
   ]
  },
  {
   "cell_type": "code",
   "execution_count": 1,
   "metadata": {
    "collapsed": false,
    "deletable": true,
    "editable": true
   },
   "outputs": [
    {
     "name": "stderr",
     "output_type": "stream",
     "text": [
      "/Users/z002nt3/anaconda/envs/code/lib/python3.6/importlib/_bootstrap.py:219: RuntimeWarning: compiletime version 3.5 of module 'tensorflow.python.framework.fast_tensor_util' does not match runtime version 3.6\n",
      "  return f(*args, **kwds)\n"
     ]
    }
   ],
   "source": [
    "from __future__ import print_function\n",
    "\n",
    "import tensorflow as tf\n",
    "import numpy as np\n",
    "import matplotlib.pyplot as plt"
   ]
  },
  {
   "cell_type": "code",
   "execution_count": 2,
   "metadata": {
    "collapsed": true,
    "deletable": true,
    "editable": true
   },
   "outputs": [],
   "source": [
    "fig_size = [15, 12]\n",
    "plt.rcParams[\"figure.figsize\"] = fig_size\n",
    "plt.style.use('ggplot')\n",
    "\n",
    "tf.reset_default_graph()"
   ]
  },
  {
   "cell_type": "markdown",
   "metadata": {
    "deletable": true,
    "editable": true
   },
   "source": [
    "## Tensorflow utility functions"
   ]
  },
  {
   "cell_type": "code",
   "execution_count": null,
   "metadata": {
    "collapsed": false,
    "deletable": true,
    "editable": true
   },
   "outputs": [],
   "source": [
    "from graphviz import Digraph\n",
    "def tf_to_dot(graph=tf.get_default_graph()):\n",
    "    dot = Digraph()\n",
    "\n",
    "    for n in graph.as_graph_def().node:\n",
    "        dot.node(n.name, label=n.name)\n",
    "\n",
    "        for i in n.input:\n",
    "            dot.edge(i, n.name)\n",
    "            \n",
    "    return dot\n",
    "    \n",
    "from IPython.display import clear_output, Image, display, HTML\n",
    "\n",
    "def strip_consts(graph_def, max_const_size=32):\n",
    "    \"\"\"Strip large constant values from graph_def.\"\"\"\n",
    "    strip_def = tf.GraphDef()\n",
    "    for n0 in graph_def.node:\n",
    "        n = strip_def.node.add() \n",
    "        n.MergeFrom(n0)\n",
    "        if n.op == 'Const':\n",
    "            tensor = n.attr['value'].tensor\n",
    "            size = len(tensor.tensor_content)\n",
    "            if size > max_const_size:\n",
    "                tensor.tensor_content = \"<stripped %d bytes>\"%size\n",
    "    return strip_def\n",
    "\n",
    "def show_graph(graph_def=tf.get_default_graph().as_graph_def(), max_const_size=32):\n",
    "    \"\"\"Visualize TensorFlow graph.\"\"\"\n",
    "    if hasattr(graph_def, 'as_graph_def'):\n",
    "        graph_def = graph_def.as_graph_def()\n",
    "    strip_def = strip_consts(graph_def, max_const_size=max_const_size)\n",
    "    code = \"\"\"\n",
    "        <script>\n",
    "          function load() {{\n",
    "            document.getElementById(\"{id}\").pbtxt = {data};\n",
    "          }}\n",
    "        </script>\n",
    "        <link rel=\"import\" href=\"https://tensorboard.appspot.com/tf-graph-basic.build.html\" onload=load()>\n",
    "        <div style=\"height:600px\">\n",
    "          <tf-graph-basic id=\"{id}\"></tf-graph-basic>\n",
    "        </div>\n",
    "    \"\"\".format(data=repr(str(strip_def)), id='graph'+str(np.random.rand()))\n",
    "\n",
    "    iframe = \"\"\"\n",
    "        <iframe seamless style=\"width:1000px;height:620px;border:0\" srcdoc=\"{}\"></iframe>\n",
    "    \"\"\".format(code.replace('\"', '&quot;'))\n",
    "    display(HTML(iframe))\n",
    "\n",
    "\n",
    "# Usage: \n",
    "# 1. tf_to_dot()\n",
    "# 2. show_graph()"
   ]
  },
  {
   "cell_type": "markdown",
   "metadata": {
    "deletable": true,
    "editable": true
   },
   "source": [
    "## Generate Data"
   ]
  },
  {
   "cell_type": "code",
   "execution_count": 3,
   "metadata": {
    "collapsed": false,
    "deletable": true,
    "editable": true
   },
   "outputs": [
    {
     "name": "stdout",
     "output_type": "stream",
     "text": [
      "No. of sample: 10\n"
     ]
    },
    {
     "data": {
      "image/png": "[encoded data removed]",
      "text/plain": [
       "<matplotlib.figure.Figure at 0x128df76a0>"
      ]
     },
     "metadata": {},
     "output_type": "display_data"
    }
   ],
   "source": [
    "rng = np.random\n",
    "\n",
    "# Parameters\n",
    "learning_rate = 0.01\n",
    "training_epochs = 1000\n",
    "display_step = 50\n",
    "\n",
    "# Training Data\n",
    "train_X = np.linspace(1, 10, 10)\n",
    "train_Y_actual = 2 * train_X + 2\n",
    "train_Y = 2 * train_X + 2 + np.random.normal(loc=0, scale=0.5, size=train_X.size)\n",
    "\n",
    "train_X = train_X.reshape(-1,1)\n",
    "train_Y = train_Y.reshape(-1,1)\n",
    "\n",
    "n_samples = train_X.shape[0]\n",
    "print(\"No. of sample:\", n_samples)\n",
    "\n",
    "plt.plot(train_X,train_Y,'ro', label='Observed data')\n",
    "plt.plot(train_X,train_Y_actual,'b', label='Actual function')\n",
    "plt.ylim([0,25])\n",
    "plt.xlim([0,12])\n",
    "plt.title(\"Underlying function (blue), Observed data (red)\")\n",
    "plt.legend()\n",
    "plt.show()"
   ]
  },
  {
   "cell_type": "markdown",
   "metadata": {
    "deletable": true,
    "editable": true
   },
   "source": [
    "## Data Transformation\n",
    "\n",
    "Given *data*, we need to transform the $x$ values of the data into a matrix containing rows of non linear features for each $x$ value. We will represent that matrix by $\\mathbf{X}$. It should look as follows:\n",
    "$$\n",
    "  \\mathbf{X} =\n",
    "  \\left[ {\\begin{array}{cccccc}\n",
    "   x_1 \\\\\n",
    "   x_2 \\\\\n",
    "   x_3 \\\\\n",
    "   \\vdots \\\\\n",
    "   x_N \\\\\n",
    "  \\end{array} } \\right]\n",
    "$$\n",
    "\n",
    "Similarly, we can represent y_train as a vector of observed values.\n",
    "$$\n",
    "\\mathbf{y_{train}} =\n",
    "\\left[{\\begin{array}{c} \n",
    " y_1 \\\\ y_2\\\\y_3\\\\\\vdots\\\\y_N \n",
    " \\end{array}}\\right]\n",
    "$$\n",
    "\n",
    "Then we will have to represent the parameter values $\\mathbf{w}$ as a vector of randomly initialised $1$ values.\n",
    "\n",
    "With these representations, the we can simultaneously compute the predicted values for all the inputs with the following matrix multiplication.\n",
    "\n",
    "$$\n",
    "\\mathbf{y_{pred}} = \\mathbf{X}\\mathbf{w} + \\mathbf{b}\n",
    "$$\n",
    "\n",
    "Therefore, we can calculate the cost via\n",
    "\n",
    "$$\n",
    "\\mathbf{cost} = \\frac{\\sum(\\mathbf{pred}-\\mathbf{Y})^2}{2 * \\mathbf n\\_samples}\n",
    "$$\n",
    "\n",
    "> Note: minimize() in Tensorflow train module knows to modify W and b because Variable objects are trainable=True by default. So no need to update them manually like we did it earlier non-tensorflow model."
   ]
  },
  {
   "cell_type": "markdown",
   "metadata": {
    "deletable": true,
    "editable": true
   },
   "source": [
    "## Build Tensorflow graph"
   ]
  },
  {
   "cell_type": "code",
   "execution_count": null,
   "metadata": {
    "collapsed": false,
    "deletable": true,
    "editable": true
   },
   "outputs": [],
   "source": [
    "# tf Graph Input\n",
    "X = ???\n",
    "Y = ???\n",
    "\n",
    "# Set model weights\n",
    "W = ???\n",
    "b = ???\n",
    "\n",
    "# Construct a linear model\n",
    "pred = ???\n",
    "\n",
    "# Mean squared error\n",
    "cost = ???\n",
    "# Gradient descent\n",
    "optimizer = ???\n",
    "\n",
    "# Initialize the variables (i.e. assign their default value)\n",
    "init = tf.global_variables_initializer()\n",
    "\n",
    "show_graph(tf.get_default_graph().as_graph_def())"
   ]
  },
  {
   "cell_type": "markdown",
   "metadata": {
    "deletable": true,
    "editable": true
   },
   "source": [
    "### Train model"
   ]
  },
  {
   "cell_type": "code",
   "execution_count": null,
   "metadata": {
    "collapsed": false,
    "deletable": true,
    "editable": true,
    "scrolled": false
   },
   "outputs": [],
   "source": [
    "with tf.Session() as sess:\n",
    "\n",
    "    # Run the initializer\n",
    "    sess.run(init)\n",
    "\n",
    "    # Fit all training data\n",
    "    ???\n",
    "\n",
    "    # Graphic display the fit model on training data\n",
    "    ???"
   ]
  },
  {
   "cell_type": "code",
   "execution_count": null,
   "metadata": {
    "collapsed": true,
    "deletable": true,
    "editable": true
   },
   "outputs": [],
   "source": []
  }
 ],
 "metadata": {
  "kernelspec": {
   "display_name": "Python 3",
   "language": "python",
   "name": "python3"
  },
  "language_info": {
   "codemirror_mode": {
    "name": "ipython",
    "version": 3
   },
   "file_extension": ".py",
   "mimetype": "text/x-python",
   "name": "python",
   "nbconvert_exporter": "python",
   "pygments_lexer": "ipython3",
   "version": "3.6.4"
  }
 },
 "nbformat": 4,
 "nbformat_minor": 0
}
